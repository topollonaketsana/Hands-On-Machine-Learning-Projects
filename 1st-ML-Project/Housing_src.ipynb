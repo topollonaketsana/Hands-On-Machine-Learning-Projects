{
 "cells": [
  {
   "cell_type": "code",
   "execution_count": 9,
   "id": "c780d853-7d75-4d46-aaef-3848c1f86224",
   "metadata": {},
   "outputs": [],
   "source": [
    "import os              \n",
    "import tarfile\n",
    "from six.moves import urllib\n",
    "import pandas as pd   "
   ]
  },
  {
   "cell_type": "code",
   "execution_count": 10,
   "id": "4f316b47-f877-42ea-8963-f1b7fb412e60",
   "metadata": {},
   "outputs": [],
   "source": [
    "DOWNLOAD_ROOT = \"https://raw.githubusercontent.com/ageron/handson-ml2/master/\"           \n",
    "HOUSING_PATH = os.path.join(\"datasets\", \"housing\")\n",
    "HOUSING_URL = DOWNLOAD_ROOT + \"datasets/housing/housing.tgz\"\n",
    "\n",
    "\n",
    "def fetch_housing_data(housing_url=HOUSING_URL, housing_path=HOUSING_PATH): \n",
    "    if not os.path.isdir(housing_path): \n",
    "        os.makedirs(housing_path)\n",
    "    tgz_path = os.path.join(housing_path, \"housing.tgz\")\n",
    "    urllib.request.urlretrieve(housing_url, tgz_path)\n",
    "    housing_tgz = tarfile.open(tgz_path)\n",
    "    housing_tgz.extractall(path=housing_path)\n",
    "    housing_tgz.close()                        ## load the data using Pandas"
   ]
  },
  {
   "cell_type": "code",
   "execution_count": 11,
   "id": "990eac59-59d1-40be-b7fa-0e84ab9ee54d",
   "metadata": {},
   "outputs": [],
   "source": [
    "def load_housing_data(housing_path = HOUSING_PATH):\n",
    "    csv_path = os.path.join(housing_path, \"housing.csv\")\n",
    "    return pd.read_csv(csv_path)\n",
    "    \n",
    "\n",
    "#housing = load_housing_data()\n",
    "#housing.head()"
   ]
  },
  {
   "cell_type": "code",
   "execution_count": 12,
   "id": "c53704de-48d2-402c-8945-89088d766089",
   "metadata": {},
   "outputs": [
    {
     "name": "stdout",
     "output_type": "stream",
     "text": [
      "   longitude  latitude  housing_median_age  total_rooms  total_bedrooms  \\\n",
      "0    -122.23     37.88                41.0        880.0           129.0   \n",
      "1    -122.22     37.86                21.0       7099.0          1106.0   \n",
      "2    -122.24     37.85                52.0       1467.0           190.0   \n",
      "3    -122.25     37.85                52.0       1274.0           235.0   \n",
      "4    -122.25     37.85                52.0       1627.0           280.0   \n",
      "\n",
      "   population  households  median_income  median_house_value ocean_proximity  \n",
      "0       322.0       126.0         8.3252            452600.0        NEAR BAY  \n",
      "1      2401.0      1138.0         8.3014            358500.0        NEAR BAY  \n",
      "2       496.0       177.0         7.2574            352100.0        NEAR BAY  \n",
      "3       558.0       219.0         5.6431            341300.0        NEAR BAY  \n",
      "4       565.0       259.0         3.8462            342200.0        NEAR BAY  \n"
     ]
    }
   ],
   "source": [
    "# Fetch the data\n",
    "fetch_housing_data()\n",
    "\n",
    "# Load the data\n",
    "housing = load_housing_data()\n",
    "if housing is not None:\n",
    "    print(housing.head())\n",
    "else:\n",
    "    print(\"Failed to load housing data.\")"
   ]
  },
  {
   "cell_type": "code",
   "execution_count": null,
   "id": "f404fbbf-ea95-44e4-ba48-1d4951dedfef",
   "metadata": {},
   "outputs": [],
   "source": []
  },
  {
   "cell_type": "code",
   "execution_count": null,
   "id": "db067056-65c2-4e72-a37d-9b1590a03f7d",
   "metadata": {},
   "outputs": [],
   "source": []
  },
  {
   "cell_type": "code",
   "execution_count": null,
   "id": "0dc9eefa-1e03-495c-80c8-79a8556af8ce",
   "metadata": {},
   "outputs": [],
   "source": []
  }
 ],
 "metadata": {
  "kernelspec": {
   "display_name": "Python 3 (ipykernel)",
   "language": "python",
   "name": "python3"
  },
  "language_info": {
   "codemirror_mode": {
    "name": "ipython",
    "version": 3
   },
   "file_extension": ".py",
   "mimetype": "text/x-python",
   "name": "python",
   "nbconvert_exporter": "python",
   "pygments_lexer": "ipython3",
   "version": "3.11.9"
  }
 },
 "nbformat": 4,
 "nbformat_minor": 5
}

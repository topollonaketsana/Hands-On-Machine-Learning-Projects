{
 "cells": [
  {
   "cell_type": "code",
   "execution_count": 1,
   "id": "75e16b92-40d9-4465-8c01-1e9f477c2e0e",
   "metadata": {},
   "outputs": [
    {
     "name": "stdout",
     "output_type": "stream",
     "text": [
      "Directory already exists: datasets\\housing\n",
      "Downloading data from https://raw.githubusercontent.com/ageron/handson-ml2/master/datasets/housing/housing.tgz to datasets\\housing\\housing.tgz\n",
      "Extracting datasets\\housing\\housing.tgz to datasets\\housing\n",
      "Extraction complete.\n",
      "Loading data from datasets\\housing\\housing.csv\n",
      "   longitude  latitude  housing_median_age  total_rooms  total_bedrooms  \\\n",
      "0    -122.23     37.88                41.0        880.0           129.0   \n",
      "1    -122.22     37.86                21.0       7099.0          1106.0   \n",
      "2    -122.24     37.85                52.0       1467.0           190.0   \n",
      "3    -122.25     37.85                52.0       1274.0           235.0   \n",
      "4    -122.25     37.85                52.0       1627.0           280.0   \n",
      "\n",
      "   population  households  median_income  median_house_value ocean_proximity  \n",
      "0       322.0       126.0         8.3252            452600.0        NEAR BAY  \n",
      "1      2401.0      1138.0         8.3014            358500.0        NEAR BAY  \n",
      "2       496.0       177.0         7.2574            352100.0        NEAR BAY  \n",
      "3       558.0       219.0         5.6431            341300.0        NEAR BAY  \n",
      "4       565.0       259.0         3.8462            342200.0        NEAR BAY  \n"
     ]
    }
   ],
   "source": [
    "import os\n",
    "import tarfile\n",
    "from six.moves import urllib\n",
    "import pandas as pd\n",
    "\n",
    "DOWNLOAD_ROOT = \"https://raw.githubusercontent.com/ageron/handson-ml2/master/\"\n",
    "HOUSING_PATH = os.path.join(\"datasets\", \"housing\")\n",
    "HOUSING_URL = DOWNLOAD_ROOT + \"datasets/housing/housing.tgz\"\n",
    "\n",
    "def fetch_housing_data(housing_url=HOUSING_URL, housing_path=HOUSING_PATH): \n",
    "    if not os.path.isdir(housing_path): \n",
    "        os.makedirs(housing_path)\n",
    "        print(f\"Created directory: {housing_path}\")\n",
    "    else:\n",
    "        print(f\"Directory already exists: {housing_path}\")\n",
    "    \n",
    "    tgz_path = os.path.join(housing_path, \"housing.tgz\")\n",
    "    print(f\"Downloading data from {housing_url} to {tgz_path}\")\n",
    "    urllib.request.urlretrieve(housing_url, tgz_path)\n",
    "    \n",
    "    print(f\"Extracting {tgz_path} to {housing_path}\")\n",
    "    housing_tgz = tarfile.open(tgz_path)\n",
    "    housing_tgz.extractall(path=housing_path)\n",
    "    housing_tgz.close()\n",
    "    print(\"Extraction complete.\")\n",
    "\n",
    "def load_housing_data(housing_path=HOUSING_PATH):\n",
    "    csv_path = os.path.join(housing_path, \"housing.csv\")\n",
    "    print(f\"Loading data from {csv_path}\")\n",
    "    if not os.path.isfile(csv_path):\n",
    "        print(f\"CSV file not found: {csv_path}\")\n",
    "        return None\n",
    "    return pd.read_csv(csv_path)\n",
    "\n",
    "# Fetch the data\n",
    "fetch_housing_data()\n",
    "\n",
    "# Load the data\n",
    "housing = load_housing_data()\n",
    "if housing is not None:\n",
    "    print(housing.head())\n",
    "else:\n",
    "    print(\"Failed to load housing data.\")\n",
    "\n",
    "\n",
    "\n",
    "\n",
    "\n",
    "\n",
    "\n",
    "\n",
    "\n",
    "\n",
    "\n",
    "\n",
    "\n",
    "\n"
   ]
  },
  {
   "cell_type": "code",
   "execution_count": null,
   "id": "eff3eb29-e6d5-4913-bd00-da4230020e57",
   "metadata": {},
   "outputs": [],
   "source": []
  }
 ],
 "metadata": {
  "kernelspec": {
   "display_name": "Python 3 (ipykernel)",
   "language": "python",
   "name": "python3"
  },
  "language_info": {
   "codemirror_mode": {
    "name": "ipython",
    "version": 3
   },
   "file_extension": ".py",
   "mimetype": "text/x-python",
   "name": "python",
   "nbconvert_exporter": "python",
   "pygments_lexer": "ipython3",
   "version": "3.11.9"
  }
 },
 "nbformat": 4,
 "nbformat_minor": 5
}

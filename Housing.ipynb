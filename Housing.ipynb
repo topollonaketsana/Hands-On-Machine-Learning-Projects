{
 "cells": [
  {
   "cell_type": "code",
   "execution_count": 36,
   "id": "c780d853-7d75-4d46-aaef-3848c1f86224",
   "metadata": {},
   "outputs": [],
   "source": [
    " import os              \n",
    " import tarfile\n",
    " from six.moves import urllib\n",
    "\n",
    "DOWNLOAD_ROOT = \"https://raw.githubusercontent.com/ageron/handson-ml2/master/\"           ## downloading the data from this Gihub url\n",
    "HOUSING_PATH = os.path.join(\"datasets\", \"housing\")\n",
    "HOUSING_URL = DOWNLOAD_ROOT + \"datasets/housing/housing.tgz\"\n",
    "\n",
    "\n",
    "def fetch_housing_data(housing_url=HOUSING_URL, housing_path=HOUSING_PATH): \n",
    "    if not os.path.isdir(housing_path): \n",
    "        os.makedirs(housing_path)\n",
    "    tgz_path = os.path.join(housing_path, \"housing.tgz\")\n",
    "    urllib.request.urlretrieve(housing_url, tgz_path)\n",
    "    housing_tgz = tarfile.open(tgz_path)\n",
    "    housing_tgz.extractall(path=housing_path)\n",
    "    housing_tgz.close()"
   ]
  },
  {
   "cell_type": "code",
   "execution_count": 37,
   "id": "4f316b47-f877-42ea-8963-f1b7fb412e60",
   "metadata": {},
   "outputs": [],
   "source": [
    "import pandas as pd                           ## load the data using Pandas"
   ]
  },
  {
   "cell_type": "code",
   "execution_count": null,
   "id": "990eac59-59d1-40be-b7fa-0e84ab9ee54d",
   "metadata": {},
   "outputs": [],
   "source": [
    "def load_housing_data(housing_path = HOUSING_PATH):\n",
    "    csv_path = os.path.join(housing_path, \"housing.csv\")\n",
    "    return pd.read_csv(csv_path)\n",
    "    \n",
    "\n",
    "#housing = load_housing_data()\n",
    "#housing.head()"
   ]
  },
  {
   "cell_type": "code",
   "execution_count": null,
   "id": "c53704de-48d2-402c-8945-89088d766089",
   "metadata": {},
   "outputs": [],
   "source": []
  },
  {
   "cell_type": "code",
   "execution_count": null,
   "id": "f404fbbf-ea95-44e4-ba48-1d4951dedfef",
   "metadata": {},
   "outputs": [],
   "source": []
  },
  {
   "cell_type": "code",
   "execution_count": null,
   "id": "db067056-65c2-4e72-a37d-9b1590a03f7d",
   "metadata": {},
   "outputs": [],
   "source": []
  },
  {
   "cell_type": "code",
   "execution_count": null,
   "id": "0dc9eefa-1e03-495c-80c8-79a8556af8ce",
   "metadata": {},
   "outputs": [],
   "source": []
  }
 ],
 "metadata": {
  "kernelspec": {
   "display_name": "Python 3 (ipykernel)",
   "language": "python",
   "name": "python3"
  },
  "language_info": {
   "codemirror_mode": {
    "name": "ipython",
    "version": 3
   },
   "file_extension": ".py",
   "mimetype": "text/x-python",
   "name": "python",
   "nbconvert_exporter": "python",
   "pygments_lexer": "ipython3",
   "version": "3.11.9"
  }
 },
 "nbformat": 4,
 "nbformat_minor": 5
}

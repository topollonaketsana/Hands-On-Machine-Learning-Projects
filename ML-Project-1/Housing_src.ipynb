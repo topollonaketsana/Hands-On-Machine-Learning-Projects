{
 "cells": [
  {
   "cell_type": "code",
   "execution_count": null,
   "id": "c780d853-7d75-4d46-aaef-3848c1f86224",
   "metadata": {},
   "outputs": [],
   "source": [
    "import os              \n",
    "import tarfile\n",
    "from six.moves import urllib\n",
    "import pandas as pd   \n",
    "import matplotlib.pyplot as plt\n",
    "import numpy as np\n",
    "import random as rd"
   ]
  },
  {
   "cell_type": "code",
   "execution_count": null,
   "id": "4f316b47-f877-42ea-8963-f1b7fb412e60",
   "metadata": {},
   "outputs": [],
   "source": [
    "print(\"Current Working Directory:\", os.getcwd())\n",
    "\n",
    "HOUSING_PATH =  \"../datasets/\" \n",
    "HOUSING_NAME = \"housing.csv\"        \n",
    "HOUSING_FULL = os.path.join (HOUSING_PATH, HOUSING_NAME)\n",
    "\n",
    "housing = pd.read_csv (HOUSING_FULL, thousands = ',')                                           #housing = load_housing_data()\n"
   ]
  },
  {
   "cell_type": "code",
   "execution_count": null,
   "id": "990eac59-59d1-40be-b7fa-0e84ab9ee54d",
   "metadata": {},
   "outputs": [],
   "source": [
    "# Fetch the data \n",
    "\n",
    "housing.head()"
   ]
  },
  {
   "cell_type": "code",
   "execution_count": null,
   "id": "f404fbbf-ea95-44e4-ba48-1d4951dedfef",
   "metadata": {},
   "outputs": [],
   "source": [
    "housing.info ()"
   ]
  },
  {
   "cell_type": "code",
   "execution_count": null,
   "id": "db067056-65c2-4e72-a37d-9b1590a03f7d",
   "metadata": {},
   "outputs": [],
   "source": [
    "housing.describe ()"
   ]
  },
  {
   "cell_type": "code",
   "execution_count": null,
   "id": "0dc9eefa-1e03-495c-80c8-79a8556af8ce",
   "metadata": {},
   "outputs": [],
   "source": [
    "%matplotlib inline\n",
    "housing.hist (bins = 50, figsize = (20, 15))\n",
    "plt.show ()"
   ]
  },
  {
   "cell_type": "code",
   "execution_count": null,
   "id": "64f516a9",
   "metadata": {},
   "outputs": [],
   "source": [
    "def split_train_test (data, test_ratio):\n",
    "    shuffled_indices = np.random.permutation (len(data))\n",
    "    test_set_size = int(len(data) * test_ratio)\n",
    "    test_indices = shuffled_indices [:test_set_size]\n",
    "    train_indices = shuffled_indices [test_set_size:]\n",
    "    return data.iloc [train_indices], data.iloc [test_indices]    "
   ]
  },
  {
   "cell_type": "code",
   "execution_count": null,
   "id": "fb803f5c",
   "metadata": {},
   "outputs": [],
   "source": [
    "train_set, test_set = split_train_test (housing, 0.2)\n",
    "print (len(train_set))\n",
    "print(len(test_set))"
   ]
  },
  {
   "cell_type": "code",
   "execution_count": null,
   "id": "35725b63",
   "metadata": {},
   "outputs": [],
   "source": [
    "from zlib import crc32\n",
    "\n",
    "def test_set_check(identifier, test_ratio):\n",
    " return crc32(np.int64(identifier)) & 0xffffffff < test_ratio * 2**32\n",
    "def split_train_test_by_id(data, test_ratio, id_column):\n",
    " ids = data[id_column]\n"
   ]
  }
 ],
 "metadata": {
  "kernelspec": {
   "display_name": "Python 3 (ipykernel)",
   "language": "python",
   "name": "python3"
  },
  "language_info": {
   "codemirror_mode": {
    "name": "ipython",
    "version": 3
   },
   "file_extension": ".py",
   "mimetype": "text/x-python",
   "name": "python",
   "nbconvert_exporter": "python",
   "pygments_lexer": "ipython3",
   "version": "3.11.9"
  }
 },
 "nbformat": 4,
 "nbformat_minor": 5
}
